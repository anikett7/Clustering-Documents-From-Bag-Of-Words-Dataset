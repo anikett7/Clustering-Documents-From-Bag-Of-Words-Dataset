{
 "cells": [
  {
   "cell_type": "markdown",
   "metadata": {},
   "source": [
    " <center> Data Mining and Machine Learning\n",
    " <center> Assignment 2\n",
    " <center> Soham Biswas (MDS202147)\n",
    " <center> Aniket Santra (MDS202106) <br><br>"
   ]
  },
  {
   "cell_type": "code",
   "execution_count": 2,
   "metadata": {},
   "outputs": [],
   "source": [
    "import os\n",
    "import random\n",
    "import sklearn\n",
    "import matplotlib\n",
    "import matplotlib.pyplot as plt\n",
    "import pandas as pd\n",
    "import numpy as np\n",
    "import seaborn as sns\n",
    "from sklearn.metrics import pairwise_distances\n",
    "from scipy.spatial.distance import pdist\n",
    "import time\n",
    "import warnings\n",
    "from sklearn.exceptions import DataConversionWarning\n",
    "warnings.filterwarnings(action='ignore', category=DataConversionWarning)\n",
    "\n",
    "%matplotlib inline"
   ]
  },
  {
   "cell_type": "markdown",
   "metadata": {},
   "source": [
    "#### Loading data using Pandas"
   ]
  },
  {
   "cell_type": "code",
   "execution_count": 3,
   "metadata": {},
   "outputs": [],
   "source": [
    "# Enron Emails\n",
    "\n",
    "d_enron = pd.read_csv(\"docword.enron.txt\", skiprows=3,  delim_whitespace=True, header = None)\n",
    "d_enron.columns = ['docID','wordID','freq']\n",
    "\n",
    "# KOS Blog Posts\n",
    "d_kos = pd.read_csv(\"docword.kos.txt\", skiprows=3,  delim_whitespace=True, header = None)\n",
    "d_kos.columns = ['docID','wordID','freq']\n",
    "\n",
    "# NIPS full papers\n",
    "d_nips = pd.read_csv(\"docword.nips.txt\", skiprows=3,  delim_whitespace=True, header = None)\n",
    "d_nips.columns = ['docID', 'wordID', 'freq']\n"
   ]
  },
  {
   "cell_type": "code",
   "execution_count": 4,
   "metadata": {},
   "outputs": [],
   "source": [
    "# Creating the Sparse Matrices for each document\n",
    "\n",
    "enron_doc_count = 39861\n",
    "enron_word_count = 28102\n",
    "\n",
    "matrix_enron = np.zeros(shape = (enron_doc_count, enron_word_count))\n",
    "\n",
    "for i, row in d_enron.iterrows():\n",
    "     matrix_enron[row['docID'] - 1,row['wordID'] - 1] = 1\n",
    "\n",
    "kos_doc_count = 3430\n",
    "kos_word_count = 6906\n",
    "        \n",
    "matrix_kos = np.zeros(shape = (kos_doc_count ,kos_word_count))\n",
    "\n",
    "for i, row in d_kos.iterrows():\n",
    "    matrix_kos[row['docID'] - 1,row['wordID'] - 1] = 1\n",
    "\n",
    "nips_doc_count = 1500\n",
    "nips_word_count = 12419\n",
    "\n",
    "matrix_nips = np.zeros(shape = (nips_doc_count ,nips_word_count))\n",
    "for i, row in d_nips.iterrows():\n",
    "    matrix_nips[row['docID'] - 1,row['wordID'] - 1] = 1"
   ]
  },
  {
   "cell_type": "code",
   "execution_count": 5,
   "metadata": {},
   "outputs": [],
   "source": [
    "# Function to calculate jaccard distance between centroid and data points\n",
    "\n",
    "def get_j_dist(m1, m2):\n",
    "    j_dist_cent = []\n",
    "    for i in range(m1.shape[0]):\n",
    "        a = m1[i:i + 1,:]\n",
    "        b = m2\n",
    "        temp = np.concatenate((a,b),axis = 0)\n",
    "        j_dist = pairwise_distances(temp, metric='jaccard')[0][1]\n",
    "        j_dist_cent.append(j_dist)\n",
    "\n",
    "    return j_dist_cent\n",
    "\n"
   ]
  },
  {
   "cell_type": "code",
   "execution_count": 6,
   "metadata": {},
   "outputs": [],
   "source": [
    "# Creating a Jaccard class and defining K-means\n",
    "\n",
    "class Jaccard_K_Means():\n",
    "    def __init__(self, mat, num_c, n_init, max_iter, tol, thres, random_state = 22):\n",
    "        self.mat = mat\n",
    "        self.num_c = num_c\n",
    "        self.n_init = n_init\n",
    "        self.max_iter = max_iter\n",
    "        self.tol = tol\n",
    "        self.thres = thres\n",
    "        self.cnt_conv = 0\n",
    "        self.random_seed = random_state\n",
    "\n",
    "        for i in range(self.n_init):\n",
    "            clus_cent = self.initialise_centroids()\n",
    "\n",
    "            iter = 0\n",
    "            flag = 0\n",
    "            iner_list = []\n",
    "            clus_cent_list = []\n",
    "            clus_assign_list = []\n",
    "            while iter <= self.max_iter:\n",
    "                inertia, new_cent, dist_prv, clus_assign = self.centroid_update(clus_cent)\n",
    "                iter += 1\n",
    "                clus_cent = new_cent\n",
    "                if dist_prv < self.tol:\n",
    "                    iner_list.append(inertia)\n",
    "                    clus_cent_list.append(new_cent)\n",
    "                    clus_assign_list.append(clus_assign)\n",
    "                    flag = 1\n",
    "                    self.cnt_conv += 1\n",
    "                    break\n",
    "\n",
    "            if flag == 0:\n",
    "                iner_list.append(inertia)\n",
    "                clus_cent_list.append(new_cent)\n",
    "                clus_assign_list.append(clus_assign)\n",
    "        \n",
    "        for i in range(self.n_init):\n",
    "            min_iner = min(iner_list)\n",
    "            min_iner_ind = iner_list.index(min_iner)\n",
    "            self.inertia = iner_list[min_iner_ind]\n",
    "            self.clus_cent = clus_cent_list[min_iner_ind]\n",
    "            self.clus_assign = clus_assign_list[min_iner_ind]\n",
    "\n",
    "    def initialise_centroids(self):\n",
    "        random.seed(self.random_seed)\n",
    "        cen = random.sample(list(range(self.mat.shape[0])),self.num_c)\n",
    "        init_cent = np.zeros((len(cen), self.mat.shape[1]))\n",
    "        for i in range(len(cen)):\n",
    "            init_cent[i,:] = self.mat[cen[i],:]\n",
    "\n",
    "        return init_cent\n",
    "\n",
    "    def centroid_update(self, clus_cent):\n",
    "        cent_n = clus_cent.shape[0]\n",
    "        jd_cen = np.zeros((cent_n, self.mat.shape[0]))\n",
    "        temp_jd = []\n",
    "        for i in range(cent_n):\n",
    "            temp_jd = get_j_dist(self.mat, clus_cent[i:i+1,:])\n",
    "            jd_cen[i,:] = temp_jd\n",
    "\n",
    "        clus_assign = self.assign_to_clusters(jd_cen)\n",
    "        inertia = self.get_inertia(clus_assign)\n",
    "        new_cent = self.get_new_cent(clus_assign, clus_cent)\n",
    "\n",
    "        dist_prv = 0\n",
    "        for i in range(cent_n):\n",
    "            prv_c = clus_cent[i,:]\n",
    "            new_c = new_cent[i,:]\n",
    "            dist_prv += np.linalg.norm(prv_c - new_c)**2\n",
    "        dist_prv = np.sqrt(dist_prv)\n",
    "\n",
    "        return inertia, new_cent, dist_prv, clus_assign\n",
    "\n",
    "    def assign_to_clusters(self, jd_cen):\n",
    "        clus_assign = []\n",
    "        for i in range(self.mat.shape[0]):\n",
    "            min_d = min(jd_cen[:,i])\n",
    "            min_d_index = np.where(jd_cen[:,i] == min_d)[0][0]\n",
    "            clus_assign.append((i,min_d_index,min_d))\n",
    "\n",
    "        return clus_assign\n",
    "\n",
    "    def get_inertia(self, clus_assign):\n",
    "        inertia = 0\n",
    "        for i in range(len(clus_assign)):\n",
    "            inertia += clus_assign[i][2]**2\n",
    "\n",
    "        return inertia\n",
    "    \n",
    "    def get_new_cent(self, clus_assign, clus_cent):\n",
    "        cent_n = clus_cent.shape[0]\n",
    "        new_cent = np.zeros(shape=(cent_n, self.mat.shape[1]))\n",
    "        for i in range(cent_n):\n",
    "            cnt_clus = 0\n",
    "            for j in range(len(clus_assign)):\n",
    "                if clus_assign[j][1] == i:\n",
    "                    new_cent[i,:] = new_cent[i,:] + self.mat[j,:]\n",
    "                    cnt_clus += 1\n",
    "                else:\n",
    "                    pass\n",
    "            \n",
    "            if cnt_clus != 0:\n",
    "                new_cent[i,:] = new_cent[i,:]*(1/cnt_clus)\n",
    "            else:\n",
    "                pass\n",
    "        \n",
    "        for i in range(new_cent.shape[0]):\n",
    "            for j in range(new_cent.shape[1]):\n",
    "                if new_cent[i,j] < self.thres:\n",
    "                    new_cent[i,j] = 0\n",
    "                else:\n",
    "                    new_cent[i,j] = 1\n",
    "\n",
    "        return new_cent"
   ]
  },
  {
   "cell_type": "code",
   "execution_count": 14,
   "metadata": {},
   "outputs": [
    {
     "name": "stdout",
     "output_type": "stream",
     "text": [
      "Wall time: 34min 35s\n"
     ]
    }
   ],
   "source": [
    "%%time\n",
    "inertia = []\n",
    "kmean_list = list(range(2,11))\n",
    "for i in range(2,11):\n",
    "    \n",
    "    kmean_model = Jaccard_K_Means(matrix_kos, num_c = i, n_init = 10, max_iter = 300, tol = 10**-2, thres = 0.2, random_state = 25)\n",
    "    inertia.append(kmean_model.inertia)"
   ]
  },
  {
   "cell_type": "code",
   "execution_count": 33,
   "metadata": {},
   "outputs": [
    {
     "data": {
      "image/png": "[encoded data removed]",
      "text/plain": [
       "<Figure size 432x288 with 1 Axes>"
      ]
     },
     "metadata": {
      "needs_background": "light"
     },
     "output_type": "display_data"
    }
   ],
   "source": [
    "sns.lineplot(x = kmean_list, y = inertia)\n",
    "plt.show()"
   ]
  },
  {
   "cell_type": "code",
   "execution_count": 8,
   "metadata": {},
   "outputs": [
    {
     "name": "stdout",
     "output_type": "stream",
     "text": [
      "Wall time: 56min 20s\n"
     ]
    }
   ],
   "source": [
    "%%time\n",
    "inertia2 = []\n",
    "kmean2_list = list(range(2,11))\n",
    "for i in range(2,11):\n",
    "    kmean2_model = Jaccard_K_Means(matrix_nips, num_c = i, n_init = 10, max_iter = 300, tol = 10**-2, thres = 0.1, random_state = 54)\n",
    "    inertia2.append(kmean2_model.inertia)"
   ]
  },
  {
   "cell_type": "code",
   "execution_count": 9,
   "metadata": {},
   "outputs": [
    {
     "data": {
      "image/png": "[encoded data removed]",
      "text/plain": [
       "<Figure size 432x288 with 1 Axes>"
      ]
     },
     "metadata": {
      "needs_background": "light"
     },
     "output_type": "display_data"
    }
   ],
   "source": [
    "sns.lineplot(x = kmean2_list, y = inertia2)\n",
    "plt.show()"
   ]
  },
  {
   "cell_type": "code",
   "execution_count": 8,
   "metadata": {},
   "outputs": [],
   "source": [
    "random.seed(54)\n",
    "docs = random.sample(range(matrix_enron.shape[0]), k = int(matrix_enron.shape[0]/10))\n",
    "docs.sort()\n",
    "\n",
    "matrix_enron_sample = np.zeros((len(docs), matrix_enron.shape[1]))\n",
    "for i in range(matrix_enron_sample.shape[0]):\n",
    "    matrix_enron_sample[i,:] = matrix_enron[docs[i],:]"
   ]
  },
  {
   "cell_type": "code",
   "execution_count": 9,
   "metadata": {},
   "outputs": [
    {
     "name": "stdout",
     "output_type": "stream",
     "text": [
      "Wall time: 1h 57min 13s\n"
     ]
    }
   ],
   "source": [
    "%%time\n",
    "inertia3 = []\n",
    "kmean3_list = list(range(2,11))\n",
    "for i in range(2,11):\n",
    "    kmean3_model = Jaccard_K_Means(matrix_enron_sample, num_c = i, n_init = 10, max_iter = 300, tol = 10**-2, thres = 0.1, random_state = 54)\n",
    "    inertia3.append(kmean3_model.inertia)"
   ]
  },
  {
   "cell_type": "code",
   "execution_count": 10,
   "metadata": {},
   "outputs": [
    {
     "data": {
      "image/png": "[encoded data removed]",
      "text/plain": [
       "<Figure size 432x288 with 1 Axes>"
      ]
     },
     "metadata": {
      "needs_background": "light"
     },
     "output_type": "display_data"
    }
   ],
   "source": [
    "sns.lineplot(x = kmean3_list, y = inertia3)\n",
    "plt.show()"
   ]
  }
 ],
 "metadata": {
  "interpreter": {
   "hash": "23581b00d404640ee2f45dc5e2650f8292bbde90670320608878a042f8e60d6b"
  },
  "kernelspec": {
   "display_name": "Python 3 (ipykernel)",
   "language": "python",
   "name": "python3"
  },
  "language_info": {
   "codemirror_mode": {
    "name": "ipython",
    "version": 3
   },
   "file_extension": ".py",
   "mimetype": "text/x-python",
   "name": "python",
   "nbconvert_exporter": "python",
   "pygments_lexer": "ipython3",
   "version": "3.8.8"
  }
 },
 "nbformat": 4,
 "nbformat_minor": 2
}
